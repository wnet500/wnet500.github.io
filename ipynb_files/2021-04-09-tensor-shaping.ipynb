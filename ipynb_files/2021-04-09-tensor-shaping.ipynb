{
 "metadata": {
  "language_info": {
   "codemirror_mode": {
    "name": "ipython",
    "version": 3
   },
   "file_extension": ".py",
   "mimetype": "text/x-python",
   "name": "python",
   "nbconvert_exporter": "python",
   "pygments_lexer": "ipython3",
   "version": "3.8.5-final"
  },
  "orig_nbformat": 2,
  "kernelspec": {
   "name": "python385jvsc74a57bd04dacac18bb4c8d034963535e678c162019d7d9af8bc1af267bd97f92f0e2918c",
   "display_name": "Python 3.8.5 64-bit ('torch_intel': conda)"
  }
 },
 "nbformat": 4,
 "nbformat_minor": 2,
 "cells": [
  {
   "source": [
    "## Pytorch shaping\n",
    "- 텐서의 shape를 변경할 수 있다.\n",
    "\n",
    "- `reshape`, `squeeze`, `unsqueeze` 함수를 사용할 수 있다."
   ],
   "cell_type": "markdown",
   "metadata": {}
  },
  {
   "cell_type": "code",
   "execution_count": 21,
   "metadata": {},
   "outputs": [
    {
     "output_type": "stream",
     "name": "stdout",
     "text": [
      "torch.Size([3, 2, 2])\n"
     ]
    }
   ],
   "source": [
    "import torch\n",
    "\n",
    "x = torch.FloatTensor([[[1, 2],\n",
    "                        [3, 4]],\n",
    "                       [[5, 6],\n",
    "                        [7, 8]],\n",
    "                       [[9, 10],\n",
    "                        [11, 12]]])\n",
    "\n",
    "print(x.size())"
   ]
  },
  {
   "source": [
    "## 1. reshape 함수\n",
    "- 1은 \"나머지 숫자는 알아서 계산해줘\"라는 의미로 사용 가능하다."
   ],
   "cell_type": "markdown",
   "metadata": {}
  },
  {
   "cell_type": "code",
   "execution_count": 22,
   "metadata": {},
   "outputs": [
    {
     "output_type": "stream",
     "name": "stdout",
     "text": [
      "tensor([ 1.,  2.,  3.,  4.,  5.,  6.,  7.,  8.,  9., 10., 11., 12.])\ntensor([ 1.,  2.,  3.,  4.,  5.,  6.,  7.,  8.,  9., 10., 11., 12.])\n"
     ]
    }
   ],
   "source": [
    "#----- 두 연산의 결과 값은 같음\n",
    "print(x.reshape(12)) # 3*2*2 = 12\n",
    "print(x.reshape(-1))"
   ]
  },
  {
   "cell_type": "code",
   "execution_count": 23,
   "metadata": {},
   "outputs": [
    {
     "output_type": "stream",
     "name": "stdout",
     "text": [
      "tensor([[ 1.,  2.,  3.,  4.],\n        [ 5.,  6.,  7.,  8.],\n        [ 9., 10., 11., 12.]])\ntensor([[ 1.,  2.,  3.,  4.],\n        [ 5.,  6.,  7.,  8.],\n        [ 9., 10., 11., 12.]])\n"
     ]
    }
   ],
   "source": [
    "#----- 두 연산의 결과 값은 같음\n",
    "print(x.reshape(3, 4)) # 3*4 = 12\n",
    "print(x.reshape(3, -1)) "
   ]
  },
  {
   "cell_type": "code",
   "execution_count": 24,
   "metadata": {},
   "outputs": [
    {
     "output_type": "stream",
     "name": "stdout",
     "text": [
      "tensor([[[ 1.,  2.,  3.,  4.]],\n\n        [[ 5.,  6.,  7.,  8.]],\n\n        [[ 9., 10., 11., 12.]]])\ntensor([[[ 1.,  2.,  3.,  4.]],\n\n        [[ 5.,  6.,  7.,  8.]],\n\n        [[ 9., 10., 11., 12.]]])\n"
     ]
    }
   ],
   "source": [
    "print(x.reshape(3, 1, 4))\n",
    "print(x.reshape(-1, 1, 4))"
   ]
  },
  {
   "source": [
    "## 2. squeeze 함수\n",
    "- 오직 1개의 element를 가지고 있는 dimension을 제거할 수 있다.\n",
    "- 또한 제거할 dimensiond을 선택할 수 있다."
   ],
   "cell_type": "markdown",
   "metadata": {}
  },
  {
   "cell_type": "code",
   "execution_count": 25,
   "metadata": {},
   "outputs": [
    {
     "output_type": "stream",
     "name": "stdout",
     "text": [
      "torch.Size([1, 2, 2])\n"
     ]
    }
   ],
   "source": [
    "x = torch.FloatTensor([[[1, 2],\n",
    "                        [3, 4]]])\n",
    "print(x.size())"
   ]
  },
  {
   "cell_type": "code",
   "execution_count": 26,
   "metadata": {},
   "outputs": [
    {
     "output_type": "stream",
     "name": "stdout",
     "text": [
      "tensor([[1., 2.],\n        [3., 4.]])\ntorch.Size([2, 2])\n"
     ]
    }
   ],
   "source": [
    "print(x.squeeze())\n",
    "print(x.squeeze().size())"
   ]
  },
  {
   "source": [
    "- 제거할 dim을 선택할 수 있으며, 만약 선택한 dim이 element를 한 개 가지고 있는 것이 아니면, 아무 일도 일어나지 않는다."
   ],
   "cell_type": "markdown",
   "metadata": {}
  },
  {
   "cell_type": "code",
   "execution_count": 27,
   "metadata": {},
   "outputs": [
    {
     "output_type": "stream",
     "name": "stdout",
     "text": [
      "tensor([[1., 2.],\n        [3., 4.]]) torch.Size([2, 2])\n\ntorch.Size([1, 2, 2])\n"
     ]
    }
   ],
   "source": [
    "print(x.squeeze(0), x.squeeze(0).size())\n",
    "print()\n",
    "print(x.squeeze(1).size()) # 아무 변화도 일어나지 않음"
   ]
  },
  {
   "source": [
    "## 3. unsqueeze 함수\n",
    "- 원하는 dim 자리에 dim을 추가할 수 있다."
   ],
   "cell_type": "markdown",
   "metadata": {}
  },
  {
   "cell_type": "code",
   "execution_count": 28,
   "metadata": {},
   "outputs": [
    {
     "output_type": "stream",
     "name": "stdout",
     "text": [
      "torch.Size([2, 2])\n"
     ]
    }
   ],
   "source": [
    "x = torch.FloatTensor([[1, 2],\n",
    "                       [3, 4]])\n",
    "print(x.size())"
   ]
  },
  {
   "cell_type": "code",
   "execution_count": 29,
   "metadata": {},
   "outputs": [
    {
     "output_type": "stream",
     "name": "stdout",
     "text": [
      "tensor([[[1., 2.],\n         [3., 4.]]]) torch.Size([1, 2, 2])\n-------------------------------------------\n\ntensor([[[1.],\n         [2.]],\n\n        [[3.],\n         [4.]]]) torch.Size([2, 2, 1])\n"
     ]
    }
   ],
   "source": [
    "z = x.unsqueeze(0)\n",
    "print(z, z.size())\n",
    "\n",
    "print(\"-------------------------------------------\\n\")\n",
    "\n",
    "z = x.unsqueeze(-1)\n",
    "print(z, z.size())"
   ]
  }
 ]
}