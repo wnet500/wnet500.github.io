{
 "metadata": {
  "language_info": {
   "codemirror_mode": {
    "name": "ipython",
    "version": 3
   },
   "file_extension": ".py",
   "mimetype": "text/x-python",
   "name": "python",
   "nbconvert_exporter": "python",
   "pygments_lexer": "ipython3",
   "version": "3.8.5-final"
  },
  "orig_nbformat": 2,
  "kernelspec": {
   "name": "python385jvsc74a57bd04dacac18bb4c8d034963535e678c162019d7d9af8bc1af267bd97f92f0e2918c",
   "display_name": "Python 3.8.5 64-bit ('torch_intel': conda)"
  }
 },
 "nbformat": 4,
 "nbformat_minor": 2,
 "cells": [
  {
   "source": [
    "##  Pytorch Tensor Operation\n",
    "- 기본 사칙연산을 포함하는 기본 연산에서 어떠한 식으로 이루어지는 아는 것은 매우 중요하다."
   ],
   "cell_type": "markdown",
   "metadata": {}
  },
  {
   "cell_type": "code",
   "execution_count": 2,
   "metadata": {},
   "outputs": [],
   "source": [
    "import torch\n",
    "\n",
    "a = torch.FloatTensor([[1, 2],\n",
    "                       [3, 4]])\n",
    "b = torch.FloatTensor([[2, 2],\n",
    "                       [3, 3]])"
   ]
  },
  {
   "source": [
    "## 1. Element-wise operations\n",
    "- 덧셈, 뺏셈, 곱셈, 나눗셈 연산자 (`+, -, *, /`)\n",
    "- 동등 비교 연산자 (`==, !=`)\n",
    "- 제곱 연산자 (`**`)"
   ],
   "cell_type": "markdown",
   "metadata": {}
  },
  {
   "cell_type": "code",
   "execution_count": 3,
   "metadata": {},
   "outputs": [
    {
     "output_type": "stream",
     "name": "stdout",
     "text": [
      "덧셈 연산:\ntensor([[3., 4.],\n        [6., 7.]])\n\n뺄셈 연산:\ntensor([[-1.,  0.],\n        [ 0.,  1.]])\n\n곱셈 연산:\ntensor([[ 2.,  4.],\n        [ 9., 12.]])\n\n나눗셈 연산:\ntensor([[0.5000, 1.0000],\n        [1.0000, 1.3333]])\n\n"
     ]
    }
   ],
   "source": [
    "#----- 덧셈\n",
    "print(\"덧셈 연산:\\n{}\\n\".format(a + b))\n",
    "\n",
    "#----- 뺄셈\n",
    "print(\"뺄셈 연산:\\n{}\\n\".format(a - b))\n",
    "\n",
    "#----- 곱셈\n",
    "print(\"곱셈 연산:\\n{}\\n\".format(a * b))\n",
    "\n",
    "#----- 나눗셈\n",
    "print(\"나눗셈 연산:\\n{}\\n\".format(a / b))\n"
   ]
  },
  {
   "source": [
    "## 2. Sum, Mean (Dimension Reducing Operations)\n",
    "- 같은 shape의 텐서끼리 sum과 mean 연산을 수행하면, dimension이 줄어들게 된다.\n",
    "- 어떤 dimension을 기준으로 연산을 할 지 정할 수도 있다.\n",
    "- **이미지**"
   ],
   "cell_type": "markdown",
   "metadata": {}
  },
  {
   "source": [
    "### 2차원 텐서"
   ],
   "cell_type": "markdown",
   "metadata": {}
  },
  {
   "cell_type": "code",
   "execution_count": 5,
   "metadata": {},
   "outputs": [
    {
     "output_type": "stream",
     "name": "stdout",
     "text": [
      "tensor(10.)\ntensor(2.5000)\n"
     ]
    }
   ],
   "source": [
    "x = torch.FloatTensor([[1, 2],\n",
    "                       [3, 4]])\n",
    "print(x.sum())\n",
    "print(x.mean())"
   ]
  },
  {
   "cell_type": "code",
   "execution_count": 6,
   "metadata": {},
   "outputs": [
    {
     "output_type": "stream",
     "name": "stdout",
     "text": [
      "tensor([4., 6.])\ntensor([2., 3.])\n"
     ]
    }
   ],
   "source": [
    "print(x.sum(dim=0))\n",
    "print(x.mean(dim=0))"
   ]
  },
  {
   "source": [
    "### 3차원 텐서"
   ],
   "cell_type": "markdown",
   "metadata": {}
  },
  {
   "cell_type": "code",
   "execution_count": 9,
   "metadata": {},
   "outputs": [],
   "source": [
    "x = torch.FloatTensor([[[1, 2, 2],\n",
    "                        [3, 4, 4]],\n",
    "                       [[5, 6, 6],\n",
    "                        [7, 8, 8]],\n",
    "                       [[9, 10, 10],\n",
    "                        [11, 12, 12]]])"
   ]
  },
  {
   "cell_type": "code",
   "execution_count": 13,
   "metadata": {},
   "outputs": [
    {
     "output_type": "stream",
     "name": "stdout",
     "text": [
      "tensor([[15., 18., 18.],\n        [21., 24., 24.]]) torch.Size([3, 2, 3]) \n\ntensor([[ 4.,  6.,  6.],\n        [12., 14., 14.],\n        [20., 22., 22.]]) torch.Size([3, 2, 3]) \n\ntensor([[ 5., 11.],\n        [17., 23.],\n        [29., 35.]]) torch.Size([3, 2, 3]) \n\n"
     ]
    }
   ],
   "source": [
    "print(x.sum(dim=0), x.size(), \"\\n\")\n",
    "print(x.sum(dim=1), x.size(), \"\\n\")\n",
    "print(x.sum(dim=2), x.size(), \"\\n\") # <-> x.sum(dim=-1)"
   ]
  },
  {
   "source": [
    "## 3. BoradCast in Operations\n",
    "- 다른 shape를 가진 tensor끼리 연산을 가능하게 한다.   \n",
    "  (dim이 낮은 텐서에서 dim을 높은 텐서에 맞춰 dim을 확장한 후 연산하는 원리)\n",
    "\n",
    "- 모든 shape의 tensor끼리 연산이 가능한 것은 아니다."
   ],
   "cell_type": "markdown",
   "metadata": {}
  },
  {
   "source": [
    "### Tensor + Scalar"
   ],
   "cell_type": "markdown",
   "metadata": {}
  },
  {
   "cell_type": "code",
   "execution_count": 15,
   "metadata": {},
   "outputs": [],
   "source": [
    "x = torch.FloatTensor([[1, 2],\n",
    "                       [3, 4]])\n",
    "y = 1"
   ]
  },
  {
   "cell_type": "code",
   "execution_count": 16,
   "metadata": {},
   "outputs": [
    {
     "output_type": "stream",
     "name": "stdout",
     "text": [
      "tensor([[2., 3.],\n        [4., 5.]])\n"
     ]
    }
   ],
   "source": [
    "print(x + y)"
   ]
  },
  {
   "source": [
    "### Tensor + Vector"
   ],
   "cell_type": "markdown",
   "metadata": {}
  },
  {
   "cell_type": "code",
   "execution_count": 18,
   "metadata": {},
   "outputs": [
    {
     "output_type": "stream",
     "name": "stdout",
     "text": [
      "torch.Size([2, 2])\ntorch.Size([2])\n"
     ]
    }
   ],
   "source": [
    " x = torch.FloatTensor([[1, 2],\n",
    "                       [4, 8]])\n",
    "y = torch.FloatTensor([3, 5])\n",
    "\n",
    "print(x.size())\n",
    "print(y.size())"
   ]
  },
  {
   "cell_type": "code",
   "execution_count": 19,
   "metadata": {},
   "outputs": [
    {
     "output_type": "stream",
     "name": "stdout",
     "text": [
      "tensor([[ 4.,  7.],\n        [ 7., 13.]])\ntorch.Size([2, 2])\n"
     ]
    }
   ],
   "source": [
    "z = x + y\n",
    "print(z)\n",
    "print(z.size())"
   ]
  },
  {
   "source": [
    "### Tensor + Tensor"
   ],
   "cell_type": "markdown",
   "metadata": {}
  },
  {
   "cell_type": "code",
   "execution_count": 20,
   "metadata": {},
   "outputs": [
    {
     "output_type": "stream",
     "name": "stdout",
     "text": [
      "torch.Size([1, 2])\ntorch.Size([2, 1])\n"
     ]
    }
   ],
   "source": [
    "x = torch.FloatTensor([[1, 2]])\n",
    "y = torch.FloatTensor([[3],\n",
    "                       [5]])\n",
    "\n",
    "print(x.size())\n",
    "print(y.size())"
   ]
  },
  {
   "cell_type": "code",
   "execution_count": 21,
   "metadata": {},
   "outputs": [
    {
     "output_type": "stream",
     "name": "stdout",
     "text": [
      "tensor([[4., 5.],\n        [6., 7.]])\ntorch.Size([2, 2])\n"
     ]
    }
   ],
   "source": [
    "z = x + y\n",
    "print(z)\n",
    "print(z.size())"
   ]
  },
  {
   "source": [
    "위 수행 결과는 아래와 같이 이루어 진 것과 같다."
   ],
   "cell_type": "markdown",
   "metadata": {}
  },
  {
   "cell_type": "code",
   "execution_count": 23,
   "metadata": {},
   "outputs": [],
   "source": [
    "x = torch.FloatTensor([[1, 2],\n",
    "                       [1, 2]])\n",
    "y = torch.FloatTensor([[3, 3],\n",
    "                       [5, 5]])"
   ]
  },
  {
   "cell_type": "code",
   "execution_count": 24,
   "metadata": {},
   "outputs": [
    {
     "output_type": "stream",
     "name": "stdout",
     "text": [
      "tensor([[4., 5.],\n        [6., 7.]])\ntorch.Size([2, 2])\n"
     ]
    }
   ],
   "source": [
    "z = x + y\n",
    "print(z)\n",
    "print(z.size())"
   ]
  }
 ]
}