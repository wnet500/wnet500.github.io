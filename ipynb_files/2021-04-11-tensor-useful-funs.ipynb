{
 "metadata": {
  "language_info": {
   "codemirror_mode": {
    "name": "ipython",
    "version": 3
   },
   "file_extension": ".py",
   "mimetype": "text/x-python",
   "name": "python",
   "nbconvert_exporter": "python",
   "pygments_lexer": "ipython3",
   "version": "3.8.5-final"
  },
  "orig_nbformat": 2,
  "kernelspec": {
   "name": "python385jvsc74a57bd04dacac18bb4c8d034963535e678c162019d7d9af8bc1af267bd97f92f0e2918c",
   "display_name": "Python 3.8.5 64-bit ('torch_intel': conda)"
  }
 },
 "nbformat": 4,
 "nbformat_minor": 2,
 "cells": [
  {
   "source": [
    "## Pytorch useful methods"
   ],
   "cell_type": "markdown",
   "metadata": {}
  },
  {
   "source": [
    "## 1. expand\n",
    "- `.expande`는 텐서의 특정 dim을 복사하여 원하는 형태의 shape를 맞추는데 사용된다.\n",
    "\n",
    "- 바로 broadcasting 하지 않고, 이렇게 expand를 한 후 연산을 하기도 한다.    \n",
    "  의도하지 않는 broadcasting 연산으로 인한 오류를 막을 수 있다."
   ],
   "cell_type": "markdown",
   "metadata": {}
  },
  {
   "cell_type": "code",
   "execution_count": 2,
   "metadata": {},
   "outputs": [
    {
     "output_type": "stream",
     "name": "stdout",
     "text": [
      "torch.Size([2, 1, 2])\n"
     ]
    }
   ],
   "source": [
    "import torch\n",
    "\n",
    "x = torch.FloatTensor([[[1, 2]],\n",
    "                       [[3, 4]]])\n",
    "print(x.size())"
   ]
  },
  {
   "cell_type": "code",
   "execution_count": 6,
   "metadata": {},
   "outputs": [
    {
     "output_type": "stream",
     "name": "stdout",
     "text": [
      "tensor([[[1., 2.],\n         [1., 2.],\n         [1., 2.]],\n\n        [[3., 4.],\n         [3., 4.],\n         [3., 4.]]])\ntorch.Size([2, 3, 2])\n"
     ]
    }
   ],
   "source": [
    "y = x.expand((2, 3, 2)) # <-> *[2, 3, 2]\n",
    "\n",
    "print(y)\n",
    "print(y.size())"
   ]
  },
  {
   "source": [
    "## 2. randperm\n",
    "- random permutation\n",
    "- 0부터 n까지의 숫자를 랜덤한 순서로 가진 텐서를 생성"
   ],
   "cell_type": "markdown",
   "metadata": {}
  },
  {
   "cell_type": "code",
   "execution_count": 5,
   "metadata": {},
   "outputs": [
    {
     "output_type": "stream",
     "name": "stdout",
     "text": [
      "tensor([8, 5, 4, 6, 2, 1, 7, 0, 3]) torch.Size([9])\n"
     ]
    }
   ],
   "source": [
    "x = torch.randperm(9)\n",
    "\n",
    "print(x, x.size())"
   ]
  },
  {
   "source": [
    "## 3. argmax\n",
    "- maximum 값을 가지고 있는 index를 리턴한다.\n",
    "- dim을 지정할 수 있다.\n",
    "- dim이 감소한다. ex. (3,3,3) -> (3,3)\n",
    "- **이미지**"
   ],
   "cell_type": "markdown",
   "metadata": {}
  },
  {
   "cell_type": "code",
   "execution_count": 8,
   "metadata": {},
   "outputs": [
    {
     "output_type": "stream",
     "name": "stdout",
     "text": [
      "tensor([[[ 1, 15,  3],\n         [10, 25, 13],\n         [11, 26, 20]],\n\n        [[17,  2,  7],\n         [ 6, 16, 22],\n         [18, 23,  9]],\n\n        [[14,  4,  0],\n         [24, 21, 19],\n         [12,  8,  5]]]) torch.Size([3, 3, 3])\n"
     ]
    }
   ],
   "source": [
    "x = torch.randperm(3**3).reshape(-1, 3, 3)\n",
    "\n",
    "print(x, x.size())"
   ]
  },
  {
   "cell_type": "code",
   "execution_count": 10,
   "metadata": {},
   "outputs": [
    {
     "output_type": "stream",
     "name": "stdout",
     "text": [
      "tensor([[1, 0, 1],\n        [2, 0, 1],\n        [1, 0, 0]]) torch.Size([3, 3])\n"
     ]
    }
   ],
   "source": [
    "y = x.argmax(dim=0)\n",
    "\n",
    "print(y, y.size())"
   ]
  },
  {
   "cell_type": "code",
   "execution_count": 11,
   "metadata": {},
   "outputs": [
    {
     "output_type": "stream",
     "name": "stdout",
     "text": [
      "tensor([[2, 2, 2],\n        [2, 2, 1],\n        [1, 1, 1]]) torch.Size([3, 3])\n"
     ]
    }
   ],
   "source": [
    "y = x.argmax(dim=1)\n",
    "\n",
    "print(y, y.size())"
   ]
  },
  {
   "cell_type": "code",
   "execution_count": 12,
   "metadata": {},
   "outputs": [
    {
     "output_type": "stream",
     "name": "stdout",
     "text": [
      "tensor([[1, 1, 1],\n        [0, 2, 1],\n        [0, 0, 0]]) torch.Size([3, 3])\n"
     ]
    }
   ],
   "source": [
    "y = x.argmax(dim=-1)\n",
    "\n",
    "print(y, y.size())"
   ]
  },
  {
   "source": [
    "## 4. topk\n",
    "- Top k개의 value와 index를 리턴한다.\n",
    "- dim을 지정할 수 있다.\n",
    "- dim=-1로 지정할 경우, x텐서에 대한 결과의 size는 (x의 dim=0, x의 dim=1, k)\n",
    "- k=1이더라도, dim이 감소하지 않는다. ex. (3,3,3) -> (3,3,1)"
   ],
   "cell_type": "markdown",
   "metadata": {}
  },
  {
   "cell_type": "code",
   "execution_count": 28,
   "metadata": {},
   "outputs": [
    {
     "output_type": "stream",
     "name": "stdout",
     "text": [
      "torch.Size([3, 3, 3])\ntorch.Size([3, 3, 1])\ntorch.Size([3, 3, 1])\n"
     ]
    }
   ],
   "source": [
    "values, indices = torch.topk(x, k=1, dim=-1)\n",
    "\n",
    "print(x.size())\n",
    "print(values.size())\n",
    "print(indices.size())"
   ]
  },
  {
   "cell_type": "code",
   "execution_count": 29,
   "metadata": {},
   "outputs": [
    {
     "output_type": "stream",
     "name": "stdout",
     "text": [
      "values:\ntensor([[[15],\n         [25],\n         [26]],\n\n        [[17],\n         [22],\n         [23]],\n\n        [[14],\n         [24],\n         [12]]])\n\n-----------------------------\nindices:\ntensor([[[1],\n         [1],\n         [1]],\n\n        [[0],\n         [2],\n         [1]],\n\n        [[0],\n         [0],\n         [0]]])\n\n"
     ]
    }
   ],
   "source": [
    "print(\"values:\\n{}\\n\".format(values))\n",
    "print(\"-----------------------------\")\n",
    "print(\"indices:\\n{}\\n\".format(indices))"
   ]
  },
  {
   "source": [
    "### topk vs. argmax\n",
    "- k=1 이더라도 dim은 감소하지 않기 때문에, unsqueeze함수를 사용하여 감소시킬 수 있다.\n",
    "- 이렇게 감소시킨 값은, dim을 감소시키는 argmax와 동일하게 된다."
   ],
   "cell_type": "markdown",
   "metadata": {}
  },
  {
   "cell_type": "code",
   "execution_count": 22,
   "metadata": {},
   "outputs": [
    {
     "output_type": "stream",
     "name": "stdout",
     "text": [
      "tensor([[15, 25, 26],\n        [17, 22, 23],\n        [14, 24, 12]])\ntensor([[1, 1, 1],\n        [0, 2, 1],\n        [0, 0, 0]])\n"
     ]
    }
   ],
   "source": [
    "print(values.squeeze(-1))\n",
    "print(indices.squeeze(-1))"
   ]
  },
  {
   "cell_type": "code",
   "execution_count": 23,
   "metadata": {},
   "outputs": [
    {
     "output_type": "stream",
     "name": "stdout",
     "text": [
      "tensor([[True, True, True],\n        [True, True, True],\n        [True, True, True]])\n"
     ]
    }
   ],
   "source": [
    "print(x.argmax(dim=-1) == indices.squeeze(-1))"
   ]
  },
  {
   "source": [
    "- 또는 k가 2이상 일 때, 원하는 index를 지정해줄 수 있다."
   ],
   "cell_type": "markdown",
   "metadata": {}
  },
  {
   "cell_type": "code",
   "execution_count": 30,
   "metadata": {},
   "outputs": [
    {
     "output_type": "stream",
     "name": "stdout",
     "text": [
      "torch.Size([3, 3, 2])\ntensor([[True, True, True],\n        [True, True, True],\n        [True, True, True]])\n"
     ]
    }
   ],
   "source": [
    "_, indices = torch.topk(x, k=2, dim=-1)\n",
    "print(indices.size())\n",
    "\n",
    "print(x.argmax(dim=-1) == indices[:, :, 0])"
   ]
  },
  {
   "source": [
    "### sort by using topk\n",
    "- topk를 이용하여 텐서를 sort할 수 있다.\n",
    "- 아래 예시 코드를 통해, dim=-1 방향으로 크기가 큰 순서대로 정렬된 것을 볼 수 있다.   \n",
    "  (15, 3, 1) , (25, 13, 10) , ..."
   ],
   "cell_type": "markdown",
   "metadata": {}
  },
  {
   "cell_type": "code",
   "execution_count": 27,
   "metadata": {},
   "outputs": [
    {
     "output_type": "stream",
     "name": "stdout",
     "text": [
      "tensor([[[15,  3,  1],\n         [25, 13, 10],\n         [26, 20, 11]],\n\n        [[17,  7,  2],\n         [22, 16,  6],\n         [23, 18,  9]],\n\n        [[14,  4,  0],\n         [24, 21, 19],\n         [12,  8,  5]]])\n"
     ]
    }
   ],
   "source": [
    "target_dim = -1\n",
    "values, indices = torch.topk(x,\n",
    "                             k=x.size(target_dim),\n",
    "                             largest=True)\n",
    "print(values)"
   ]
  },
  {
   "source": [
    "## 5. sort\n",
    "- 텐서를 원하는 dim에서 오름/내림 차순으로 정렬할 수 있다.\n",
    "- 응용하여 topk처럼 사용할 수 있다."
   ],
   "cell_type": "markdown",
   "metadata": {}
  },
  {
   "cell_type": "code",
   "execution_count": 32,
   "metadata": {},
   "outputs": [
    {
     "output_type": "stream",
     "name": "stdout",
     "text": [
      "tensor([[[15,  3,  1],\n         [25, 13, 10],\n         [26, 20, 11]],\n\n        [[17,  7,  2],\n         [22, 16,  6],\n         [23, 18,  9]],\n\n        [[14,  4,  0],\n         [24, 21, 19],\n         [12,  8,  5]]])\n"
     ]
    }
   ],
   "source": [
    "values, indices = torch.sort(x, dim=-1, descending=True)\n",
    "\n",
    "print(values)"
   ]
  },
  {
   "source": [
    "### topk by using sort\n",
    "- 아래 코드는 `values, indices = torch.topk(x, k=1, dim=-1)`와 동일한 결과를 갖는다."
   ],
   "cell_type": "markdown",
   "metadata": {}
  },
  {
   "cell_type": "code",
   "execution_count": 35,
   "metadata": {},
   "outputs": [
    {
     "output_type": "stream",
     "name": "stdout",
     "text": [
      "tensor([[[15],\n         [25],\n         [26]],\n\n        [[17],\n         [22],\n         [23]],\n\n        [[14],\n         [24],\n         [12]]])\ntensor([[[1],\n         [1],\n         [1]],\n\n        [[0],\n         [2],\n         [1]],\n\n        [[0],\n         [0],\n         [0]]])\n"
     ]
    }
   ],
   "source": [
    "k=1\n",
    "values, indices = torch.sort(x, dim=-1, descending=True)\n",
    "values, indices = values[:, :, :k], indices[:, :, :k]\n",
    "\n",
    "print(values)\n",
    "print(indices)"
   ]
  },
  {
   "source": [
    "## 6. ones & zeros\n",
    "- 원하는 shape를 0 또는 1로 채워넣는다.\n",
    "- torch의 ones_like(x)와 zeros_like(x) 함수를 통해,   \n",
    "  **x의 size, type, device를 동일하게 맞추어** 0또는 1을 생성할 수 있다.\n",
    "- device를 맞춘다는 것은 생성될 텐서가 cpu 메모리 혹은 gpu 메모리 중 어디에 올릴지 또한 맞춰준다는 것이다."
   ],
   "cell_type": "markdown",
   "metadata": {}
  },
  {
   "cell_type": "code",
   "execution_count": 36,
   "metadata": {},
   "outputs": [
    {
     "output_type": "stream",
     "name": "stdout",
     "text": [
      "tensor([[1., 1., 1.],\n        [1., 1., 1.]])\ntensor([[0., 0., 0.],\n        [0., 0., 0.]])\n"
     ]
    }
   ],
   "source": [
    "print(torch.ones(2, 3))\n",
    "print(torch.zeros(2, 3))"
   ]
  },
  {
   "cell_type": "code",
   "execution_count": 37,
   "metadata": {},
   "outputs": [
    {
     "output_type": "stream",
     "name": "stdout",
     "text": [
      "torch.Size([2, 3])\n----------------------------\ntensor([[1., 1., 1.],\n        [1., 1., 1.]])\ntensor([[0., 0., 0.],\n        [0., 0., 0.]])\n"
     ]
    }
   ],
   "source": [
    "x = torch.FloatTensor([[1, 2, 3],\n",
    "                       [4, 5, 6]])\n",
    "print(x.size())\n",
    "\n",
    "print(\"----------------------------\")\n",
    "\n",
    "print(torch.ones_like(x))\n",
    "print(torch.zeros_like(x))"
   ]
  }
 ]
}