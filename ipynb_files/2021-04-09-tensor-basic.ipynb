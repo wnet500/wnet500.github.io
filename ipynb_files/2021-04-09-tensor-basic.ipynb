{
 "metadata": {
  "language_info": {
   "codemirror_mode": {
    "name": "ipython",
    "version": 3
   },
   "file_extension": ".py",
   "mimetype": "text/x-python",
   "name": "python",
   "nbconvert_exporter": "python",
   "pygments_lexer": "ipython3",
   "version": "3.8.5-final"
  },
  "orig_nbformat": 2,
  "kernelspec": {
   "name": "python385jvsc74a57bd04dacac18bb4c8d034963535e678c162019d7d9af8bc1af267bd97f92f0e2918c",
   "display_name": "Python 3.8.5 64-bit ('torch_intel': conda)"
  }
 },
 "nbformat": 4,
 "nbformat_minor": 2,
 "cells": [
  {
   "source": [
    "## Tensor allocation\n",
    "- `FloatTensor`: 실수\n",
    "\n",
    "- `LongTensor`: 정수 값 이라고 생각하면 편하다, 주로 **인덱스** 값을 담기 위해 쓰인다.\n",
    "\n",
    "- `ByteTensor`: 0과 1값을 담을 때 사용한다.\n",
    "\n",
    "- `BoolTensor`: True와 False를 담을 때 사용한다."
   ],
   "cell_type": "markdown",
   "metadata": {}
  },
  {
   "cell_type": "code",
   "execution_count": 7,
   "metadata": {},
   "outputs": [
    {
     "output_type": "stream",
     "name": "stdout",
     "text": [
      "FloatTensor:\ntensor([[1., 2.],\n        [3., 4.]])\n\nLongTensor:\ntensor([[1, 2],\n        [3, 4]])\n\nByteTensor:\ntensor([[1, 0],\n        [0, 1]], dtype=torch.uint8)\n\nBoolTensor:\ntensor([[ True, False],\n        [False,  True]])\n\n"
     ]
    }
   ],
   "source": [
    "import torch\n",
    "\n",
    "#----- FloatTensor\n",
    "ft = torch.FloatTensor([[1, 2],\n",
    "                        [3, 4]])\n",
    "print(\"FloatTensor:\\n{}\\n\".format(ft))\n",
    "\n",
    "#----- LongTensor\n",
    "lt = torch.LongTensor([[1, 2],\n",
    "                        [3, 4]])\n",
    "print(\"LongTensor:\\n{}\\n\".format(lt))\n",
    "\n",
    "#----- ByteTensor\n",
    "bt = torch.ByteTensor([[1, 0],\n",
    "                        [0, 1]])\n",
    "print(\"ByteTensor:\\n{}\\n\".format(bt))\n",
    "\n",
    "#----- BoolTensor\n",
    "boolt = torch.BoolTensor([[1, 0],\n",
    "                          [0, 1]])\n",
    "print(\"BoolTensor:\\n{}\\n\".format(boolt))"
   ]
  },
  {
   "source": [
    "## Tensor and Numpy Compatibility\n",
    "\n",
    "- Numpy와 Tensor 사이의 자유로운 호환이 가능하다.\n",
    "\n",
    "- `from_numpy(x)`: numpy -> tensor 변환\n",
    "\n",
    "- `.numpy()`: tensor -> numpy 변환"
   ],
   "cell_type": "markdown",
   "metadata": {}
  },
  {
   "cell_type": "code",
   "execution_count": 12,
   "metadata": {},
   "outputs": [
    {
     "output_type": "stream",
     "name": "stdout",
     "text": [
      "[[1 2]\n [3 4]] <class 'numpy.ndarray'> \n\ntensor([[1, 2],\n        [3, 4]]) <class 'torch.Tensor'> \n\n[[1 2]\n [3 4]] <class 'numpy.ndarray'> \n\n"
     ]
    }
   ],
   "source": [
    "import torch\n",
    "import numpy as np \n",
    "\n",
    "#----- numpy array 정의\n",
    "x = np.array([[1, 2],\n",
    "              [3, 4]])\n",
    "print(x, type(x), \"\\n\")\n",
    "\n",
    "#----- numpy -> tensor\n",
    "y = torch.from_numpy(x)\n",
    "print(y, type(y), \"\\n\")\n",
    "\n",
    "#----- tensor -> numpy\n",
    "z = y.numpy()\n",
    "print(z, type(z), \"\\n\")"
   ]
  },
  {
   "source": [
    "## Type casting\n",
    "- tensor의 type을 쉽게 변환할 수 있다.\n",
    "\n",
    "- `.long()`, `.float()`,`.byte()`, `.bool()` 사용"
   ],
   "cell_type": "markdown",
   "metadata": {}
  },
  {
   "cell_type": "code",
   "execution_count": 18,
   "metadata": {},
   "outputs": [
    {
     "output_type": "stream",
     "name": "stdout",
     "text": [
      "FloatTensor -> LongTensor: \ntensor([[1, 2],\n        [3, 4]])\n\nLongTensor -> FloatTensor: \ntensor([[1., 2.],\n        [3., 4.]])\n\nFloatTensor-> ByteTensor: \ntensor([1, 0], dtype=torch.uint8)\n\nFloatTensor-> ByteTensor: \ntensor([ True, False])\n\n"
     ]
    }
   ],
   "source": [
    "print(\"FloatTensor -> LongTensor: \\n{}\\n\".format(ft.long()))\n",
    "\n",
    "print(\"LongTensor -> FloatTensor: \\n{}\\n\".format(lt.float()))\n",
    "\n",
    "print(\"FloatTensor-> ByteTensor: \\n{}\\n\".format(torch.FloatTensor([1, 0]).byte()))\n",
    "\n",
    "print(\"FloatTensor-> ByteTensor: \\n{}\\n\".format(torch.FloatTensor([1, 0]).bool()))"
   ]
  },
  {
   "source": [
    "## Get shape\n",
    "- 다음 두 가지 방법을 통해 shape를 얻을 수 있다.\n",
    "- `.size()`, `.shape`"
   ],
   "cell_type": "markdown",
   "metadata": {}
  },
  {
   "cell_type": "code",
   "execution_count": 20,
   "metadata": {},
   "outputs": [],
   "source": [
    "x = torch.FloatTensor([[[1, 2],\n",
    "                        [3, 4]],\n",
    "                       [[5, 6],\n",
    "                        [7, 8]],\n",
    "                       [[9, 10],\n",
    "                        [11, 12]]])"
   ]
  },
  {
   "cell_type": "code",
   "execution_count": 21,
   "metadata": {},
   "outputs": [
    {
     "output_type": "stream",
     "name": "stdout",
     "text": [
      "torch.Size([3, 2, 2])\ntorch.Size([3, 2, 2])\n"
     ]
    }
   ],
   "source": [
    "print(x.size())\n",
    "print(x.shape)"
   ]
  },
  {
   "cell_type": "code",
   "execution_count": 27,
   "metadata": {},
   "outputs": [
    {
     "output_type": "stream",
     "name": "stdout",
     "text": [
      "3\n3\n\n2\n2\n"
     ]
    }
   ],
   "source": [
    "#----- 0 번째 차원의 element 갯수\n",
    "print(x.size(0))\n",
    "print(x.shape[0])\n",
    "\n",
    "#----- 마지막 차원의 element 갯수\n",
    "print()\n",
    "print(x.size(-1))\n",
    "print(x.shape[-1])"
   ]
  },
  {
   "source": [
    "## Get number of dimensions\n",
    "- 다음 두 가지 방법을 통해 차원의 갯수를 얻을 수 있다\n",
    "- `.dim()`, `len(.size())`"
   ],
   "cell_type": "markdown",
   "metadata": {}
  },
  {
   "cell_type": "code",
   "execution_count": 24,
   "metadata": {},
   "outputs": [
    {
     "output_type": "stream",
     "name": "stdout",
     "text": [
      "3\n3\n"
     ]
    }
   ],
   "source": [
    "print(x.dim())\n",
    "print(len(x.size()))"
   ]
  }
 ]
}